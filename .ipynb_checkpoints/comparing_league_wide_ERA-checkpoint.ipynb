{
 "cells": [
  {
   "cell_type": "code",
   "execution_count": 12,
   "id": "d1baba4b",
   "metadata": {},
   "outputs": [],
   "source": [
    "import polars as pl"
   ]
  },
  {
   "cell_type": "code",
   "execution_count": 13,
   "id": "6addf53d",
   "metadata": {},
   "outputs": [
    {
     "data": {
      "text/html": [
       "<div><style>\n",
       ".dataframe > thead > tr,\n",
       ".dataframe > tbody > tr {\n",
       "  text-align: right;\n",
       "  white-space: pre-wrap;\n",
       "}\n",
       "</style>\n",
       "<small>shape: (5, 30)</small><table border=\"1\" class=\"dataframe\"><thead><tr><th>playerID</th><th>yearID</th><th>stint</th><th>teamID</th><th>lgID</th><th>W</th><th>L</th><th>G</th><th>GS</th><th>CG</th><th>SHO</th><th>SV</th><th>IPouts</th><th>H</th><th>ER</th><th>HR</th><th>BB</th><th>SO</th><th>BAOpp</th><th>ERA</th><th>IBB</th><th>WP</th><th>HBP</th><th>BK</th><th>BFP</th><th>GF</th><th>R</th><th>SH</th><th>SF</th><th>GIDP</th></tr><tr><td>str</td><td>i64</td><td>i64</td><td>str</td><td>str</td><td>i64</td><td>i64</td><td>i64</td><td>i64</td><td>i64</td><td>i64</td><td>i64</td><td>i64</td><td>i64</td><td>i64</td><td>i64</td><td>i64</td><td>i64</td><td>f64</td><td>f64</td><td>i64</td><td>i64</td><td>i64</td><td>i64</td><td>i64</td><td>i64</td><td>i64</td><td>i64</td><td>i64</td><td>i64</td></tr></thead><tbody><tr><td>&quot;aardsda01&quot;</td><td>2004</td><td>1</td><td>&quot;SFN&quot;</td><td>&quot;NL&quot;</td><td>1</td><td>0</td><td>11</td><td>0</td><td>0</td><td>0</td><td>0</td><td>32</td><td>20</td><td>8</td><td>1</td><td>10</td><td>5</td><td>0.417</td><td>6.75</td><td>0</td><td>0</td><td>2</td><td>0</td><td>61</td><td>5</td><td>8</td><td>0</td><td>1</td><td>1</td></tr><tr><td>&quot;aardsda01&quot;</td><td>2006</td><td>1</td><td>&quot;CHN&quot;</td><td>&quot;NL&quot;</td><td>3</td><td>0</td><td>45</td><td>0</td><td>0</td><td>0</td><td>0</td><td>159</td><td>41</td><td>24</td><td>9</td><td>28</td><td>49</td><td>0.214</td><td>4.08</td><td>0</td><td>1</td><td>1</td><td>0</td><td>225</td><td>9</td><td>25</td><td>1</td><td>3</td><td>2</td></tr><tr><td>&quot;aardsda01&quot;</td><td>2007</td><td>1</td><td>&quot;CHA&quot;</td><td>&quot;AL&quot;</td><td>2</td><td>1</td><td>25</td><td>0</td><td>0</td><td>0</td><td>0</td><td>97</td><td>39</td><td>23</td><td>4</td><td>17</td><td>36</td><td>0.3</td><td>6.4</td><td>3</td><td>2</td><td>1</td><td>0</td><td>151</td><td>7</td><td>24</td><td>2</td><td>1</td><td>1</td></tr><tr><td>&quot;aardsda01&quot;</td><td>2008</td><td>1</td><td>&quot;BOS&quot;</td><td>&quot;AL&quot;</td><td>4</td><td>2</td><td>47</td><td>0</td><td>0</td><td>0</td><td>0</td><td>146</td><td>49</td><td>30</td><td>4</td><td>35</td><td>49</td><td>0.268</td><td>5.55</td><td>2</td><td>3</td><td>5</td><td>0</td><td>228</td><td>7</td><td>32</td><td>3</td><td>2</td><td>4</td></tr><tr><td>&quot;aardsda01&quot;</td><td>2009</td><td>1</td><td>&quot;SEA&quot;</td><td>&quot;AL&quot;</td><td>3</td><td>6</td><td>73</td><td>0</td><td>0</td><td>0</td><td>38</td><td>214</td><td>49</td><td>20</td><td>4</td><td>34</td><td>80</td><td>0.19</td><td>2.52</td><td>3</td><td>2</td><td>0</td><td>0</td><td>296</td><td>53</td><td>23</td><td>2</td><td>1</td><td>2</td></tr></tbody></table></div>"
      ],
      "text/plain": [
       "shape: (5, 30)\n",
       "┌───────────┬────────┬───────┬────────┬───┬─────┬─────┬─────┬──────┐\n",
       "│ playerID  ┆ yearID ┆ stint ┆ teamID ┆ … ┆ R   ┆ SH  ┆ SF  ┆ GIDP │\n",
       "│ ---       ┆ ---    ┆ ---   ┆ ---    ┆   ┆ --- ┆ --- ┆ --- ┆ ---  │\n",
       "│ str       ┆ i64    ┆ i64   ┆ str    ┆   ┆ i64 ┆ i64 ┆ i64 ┆ i64  │\n",
       "╞═══════════╪════════╪═══════╪════════╪═══╪═════╪═════╪═════╪══════╡\n",
       "│ aardsda01 ┆ 2004   ┆ 1     ┆ SFN    ┆ … ┆ 8   ┆ 0   ┆ 1   ┆ 1    │\n",
       "│ aardsda01 ┆ 2006   ┆ 1     ┆ CHN    ┆ … ┆ 25  ┆ 1   ┆ 3   ┆ 2    │\n",
       "│ aardsda01 ┆ 2007   ┆ 1     ┆ CHA    ┆ … ┆ 24  ┆ 2   ┆ 1   ┆ 1    │\n",
       "│ aardsda01 ┆ 2008   ┆ 1     ┆ BOS    ┆ … ┆ 32  ┆ 3   ┆ 2   ┆ 4    │\n",
       "│ aardsda01 ┆ 2009   ┆ 1     ┆ SEA    ┆ … ┆ 23  ┆ 2   ┆ 1   ┆ 2    │\n",
       "└───────────┴────────┴───────┴────────┴───┴─────┴─────┴─────┴──────┘"
      ]
     },
     "execution_count": 13,
     "metadata": {},
     "output_type": "execute_result"
    }
   ],
   "source": [
    "pitching = pl.read_csv(\"data/pitching.csv\")\n",
    "pitching.head()"
   ]
  },
  {
   "cell_type": "code",
   "execution_count": 14,
   "id": "73432e4c",
   "metadata": {},
   "outputs": [
    {
     "data": {
      "text/html": [
       "<div><style>\n",
       ".dataframe > thead > tr,\n",
       ".dataframe > tbody > tr {\n",
       "  text-align: right;\n",
       "  white-space: pre-wrap;\n",
       "}\n",
       "</style>\n",
       "<small>shape: (5, 3)</small><table border=\"1\" class=\"dataframe\"><thead><tr><th>yearID</th><th>R</th><th>era</th></tr><tr><td>i64</td><td>i64</td><td>str</td></tr></thead><tbody><tr><td>1905</td><td>22</td><td>&quot;dead ball&quot;</td></tr><tr><td>1909</td><td>14</td><td>&quot;dead ball&quot;</td></tr><tr><td>1911</td><td>15</td><td>&quot;dead ball&quot;</td></tr><tr><td>1923</td><td>5</td><td>&quot;live ball&quot;</td></tr><tr><td>1920</td><td>40</td><td>&quot;live ball&quot;</td></tr></tbody></table></div>"
      ],
      "text/plain": [
       "shape: (5, 3)\n",
       "┌────────┬─────┬───────────┐\n",
       "│ yearID ┆ R   ┆ era       │\n",
       "│ ---    ┆ --- ┆ ---       │\n",
       "│ i64    ┆ i64 ┆ str       │\n",
       "╞════════╪═════╪═══════════╡\n",
       "│ 1905   ┆ 22  ┆ dead ball │\n",
       "│ 1909   ┆ 14  ┆ dead ball │\n",
       "│ 1911   ┆ 15  ┆ dead ball │\n",
       "│ 1923   ┆ 5   ┆ live ball │\n",
       "│ 1920   ┆ 40  ┆ live ball │\n",
       "└────────┴─────┴───────────┘"
      ]
     },
     "execution_count": 14,
     "metadata": {},
     "output_type": "execute_result"
    }
   ],
   "source": [
    "eras = (pitching\n",
    "        .select(['yearID', 'R'])\n",
    "        .filter((pl.col('yearID') >= 1900) & (pl.col('yearID') < 1939))\n",
    "        .with_columns(era = pl.when(pl.col('yearID') < 1920)\n",
    "                              .then(pl.lit('dead ball'))\n",
    "                              .otherwise(pl.lit('live ball'))\n",
    "                     )\n",
    "       )\n",
    "eras.head()"
   ]
  },
  {
   "cell_type": "code",
   "execution_count": 15,
   "id": "39bdfe51",
   "metadata": {},
   "outputs": [
    {
     "data": {
      "text/html": [
       "<div><style>\n",
       ".dataframe > thead > tr,\n",
       ".dataframe > tbody > tr {\n",
       "  text-align: right;\n",
       "  white-space: pre-wrap;\n",
       "}\n",
       "</style>\n",
       "<small>shape: (2, 2)</small><table border=\"1\" class=\"dataframe\"><thead><tr><th>era</th><th>mean_runs</th></tr><tr><td>str</td><td>f64</td></tr></thead><tbody><tr><td>&quot;live ball&quot;</td><td>55.76718</td></tr><tr><td>&quot;dead ball&quot;</td><td>49.707696</td></tr></tbody></table></div>"
      ],
      "text/plain": [
       "shape: (2, 2)\n",
       "┌───────────┬───────────┐\n",
       "│ era       ┆ mean_runs │\n",
       "│ ---       ┆ ---       │\n",
       "│ str       ┆ f64       │\n",
       "╞═══════════╪═══════════╡\n",
       "│ live ball ┆ 55.76718  │\n",
       "│ dead ball ┆ 49.707696 │\n",
       "└───────────┴───────────┘"
      ]
     },
     "execution_count": 15,
     "metadata": {},
     "output_type": "execute_result"
    }
   ],
   "source": [
    "mean_runs = (eras\n",
    "             .group_by(pl.col('era'))\n",
    "             .agg(mean_runs = pl.col('R').mean())\n",
    "            )\n",
    "mean_runs"
   ]
  },
  {
   "cell_type": "code",
   "execution_count": 16,
   "id": "0cda60b1",
   "metadata": {},
   "outputs": [
    {
     "data": {
      "text/html": [
       "<div><style>\n",
       ".dataframe > thead > tr,\n",
       ".dataframe > tbody > tr {\n",
       "  text-align: right;\n",
       "  white-space: pre-wrap;\n",
       "}\n",
       "</style>\n",
       "<small>shape: (5, 31)</small><table border=\"1\" class=\"dataframe\"><thead><tr><th>playerID</th><th>yearID</th><th>stint</th><th>teamID</th><th>lgID</th><th>W</th><th>L</th><th>G</th><th>GS</th><th>CG</th><th>SHO</th><th>SV</th><th>IPouts</th><th>H</th><th>ER</th><th>HR</th><th>BB</th><th>SO</th><th>BAOpp</th><th>ERA</th><th>IBB</th><th>WP</th><th>HBP</th><th>BK</th><th>BFP</th><th>GF</th><th>R</th><th>SH</th><th>SF</th><th>GIDP</th><th>dh_in_league</th></tr><tr><td>str</td><td>i64</td><td>i64</td><td>str</td><td>str</td><td>i64</td><td>i64</td><td>i64</td><td>i64</td><td>i64</td><td>i64</td><td>i64</td><td>i64</td><td>i64</td><td>i64</td><td>i64</td><td>i64</td><td>i64</td><td>f64</td><td>f64</td><td>i64</td><td>i64</td><td>i64</td><td>i64</td><td>i64</td><td>i64</td><td>i64</td><td>i64</td><td>i64</td><td>i64</td><td>str</td></tr></thead><tbody><tr><td>&quot;aardsda01&quot;</td><td>2004</td><td>1</td><td>&quot;SFN&quot;</td><td>&quot;NL&quot;</td><td>1</td><td>0</td><td>11</td><td>0</td><td>0</td><td>0</td><td>0</td><td>32</td><td>20</td><td>8</td><td>1</td><td>10</td><td>5</td><td>0.417</td><td>6.75</td><td>0</td><td>0</td><td>2</td><td>0</td><td>61</td><td>5</td><td>8</td><td>0</td><td>1</td><td>1</td><td>&quot;no&quot;</td></tr><tr><td>&quot;aardsda01&quot;</td><td>2006</td><td>1</td><td>&quot;CHN&quot;</td><td>&quot;NL&quot;</td><td>3</td><td>0</td><td>45</td><td>0</td><td>0</td><td>0</td><td>0</td><td>159</td><td>41</td><td>24</td><td>9</td><td>28</td><td>49</td><td>0.214</td><td>4.08</td><td>0</td><td>1</td><td>1</td><td>0</td><td>225</td><td>9</td><td>25</td><td>1</td><td>3</td><td>2</td><td>&quot;no&quot;</td></tr><tr><td>&quot;aardsda01&quot;</td><td>2007</td><td>1</td><td>&quot;CHA&quot;</td><td>&quot;AL&quot;</td><td>2</td><td>1</td><td>25</td><td>0</td><td>0</td><td>0</td><td>0</td><td>97</td><td>39</td><td>23</td><td>4</td><td>17</td><td>36</td><td>0.3</td><td>6.4</td><td>3</td><td>2</td><td>1</td><td>0</td><td>151</td><td>7</td><td>24</td><td>2</td><td>1</td><td>1</td><td>&quot;yes&quot;</td></tr><tr><td>&quot;aardsda01&quot;</td><td>2008</td><td>1</td><td>&quot;BOS&quot;</td><td>&quot;AL&quot;</td><td>4</td><td>2</td><td>47</td><td>0</td><td>0</td><td>0</td><td>0</td><td>146</td><td>49</td><td>30</td><td>4</td><td>35</td><td>49</td><td>0.268</td><td>5.55</td><td>2</td><td>3</td><td>5</td><td>0</td><td>228</td><td>7</td><td>32</td><td>3</td><td>2</td><td>4</td><td>&quot;yes&quot;</td></tr><tr><td>&quot;aardsda01&quot;</td><td>2009</td><td>1</td><td>&quot;SEA&quot;</td><td>&quot;AL&quot;</td><td>3</td><td>6</td><td>73</td><td>0</td><td>0</td><td>0</td><td>38</td><td>214</td><td>49</td><td>20</td><td>4</td><td>34</td><td>80</td><td>0.19</td><td>2.52</td><td>3</td><td>2</td><td>0</td><td>0</td><td>296</td><td>53</td><td>23</td><td>2</td><td>1</td><td>2</td><td>&quot;yes&quot;</td></tr></tbody></table></div>"
      ],
      "text/plain": [
       "shape: (5, 31)\n",
       "┌───────────┬────────┬───────┬────────┬───┬─────┬─────┬──────┬──────────────┐\n",
       "│ playerID  ┆ yearID ┆ stint ┆ teamID ┆ … ┆ SH  ┆ SF  ┆ GIDP ┆ dh_in_league │\n",
       "│ ---       ┆ ---    ┆ ---   ┆ ---    ┆   ┆ --- ┆ --- ┆ ---  ┆ ---          │\n",
       "│ str       ┆ i64    ┆ i64   ┆ str    ┆   ┆ i64 ┆ i64 ┆ i64  ┆ str          │\n",
       "╞═══════════╪════════╪═══════╪════════╪═══╪═════╪═════╪══════╪══════════════╡\n",
       "│ aardsda01 ┆ 2004   ┆ 1     ┆ SFN    ┆ … ┆ 0   ┆ 1   ┆ 1    ┆ no           │\n",
       "│ aardsda01 ┆ 2006   ┆ 1     ┆ CHN    ┆ … ┆ 1   ┆ 3   ┆ 2    ┆ no           │\n",
       "│ aardsda01 ┆ 2007   ┆ 1     ┆ CHA    ┆ … ┆ 2   ┆ 1   ┆ 1    ┆ yes          │\n",
       "│ aardsda01 ┆ 2008   ┆ 1     ┆ BOS    ┆ … ┆ 3   ┆ 2   ┆ 4    ┆ yes          │\n",
       "│ aardsda01 ┆ 2009   ┆ 1     ┆ SEA    ┆ … ┆ 2   ┆ 1   ┆ 2    ┆ yes          │\n",
       "└───────────┴────────┴───────┴────────┴───┴─────┴─────┴──────┴──────────────┘"
      ]
     },
     "execution_count": 16,
     "metadata": {},
     "output_type": "execute_result"
    }
   ],
   "source": [
    "pitching.with_columns(\n",
    "    dh_in_league=(\n",
    "        pl.when((pl.col(\"lgID\") == \"AL\") & (pl.col(\"yearID\") >= 1973)).then(pl.lit(\"yes\"))\n",
    "          .when(pl.col(\"yearID\") == 2020).then(pl.lit(\"yes\"))\n",
    "          .when((pl.col(\"lgID\") == \"NL\") & (pl.col(\"yearID\") >= 2022)).then(pl.lit(\"yes\"))\n",
    "          .otherwise(pl.lit(\"no\"))\n",
    "          .alias(\"dh_in_league\")\n",
    "    )\n",
    ").head()\n"
   ]
  },
  {
   "cell_type": "code",
   "execution_count": 17,
   "id": "06c66da9",
   "metadata": {},
   "outputs": [
    {
     "data": {
      "text/html": [
       "<div><style>\n",
       ".dataframe > thead > tr,\n",
       ".dataframe > tbody > tr {\n",
       "  text-align: right;\n",
       "  white-space: pre-wrap;\n",
       "}\n",
       "</style>\n",
       "<small>shape: (158, 4)</small><table border=\"1\" class=\"dataframe\"><thead><tr><th>yearID</th><th>lgID</th><th>dh_in_league</th><th>ERA</th></tr><tr><td>i64</td><td>str</td><td>str</td><td>f64</td></tr></thead><tbody><tr><td>1967</td><td>&quot;AL&quot;</td><td>&quot;no&quot;</td><td>3.693277</td></tr><tr><td>1981</td><td>&quot;NL&quot;</td><td>&quot;no&quot;</td><td>3.894603</td></tr><tr><td>2011</td><td>&quot;NL&quot;</td><td>&quot;no&quot;</td><td>4.170883</td></tr><tr><td>2008</td><td>&quot;AL&quot;</td><td>&quot;yes&quot;</td><td>4.721562</td></tr><tr><td>2003</td><td>&quot;AL&quot;</td><td>&quot;yes&quot;</td><td>4.922077</td></tr><tr><td>&hellip;</td><td>&hellip;</td><td>&hellip;</td><td>&hellip;</td></tr><tr><td>1947</td><td>&quot;NL&quot;</td><td>&quot;no&quot;</td><td>4.652088</td></tr><tr><td>1952</td><td>&quot;NL&quot;</td><td>&quot;no&quot;</td><td>4.209594</td></tr><tr><td>1951</td><td>&quot;NL&quot;</td><td>&quot;no&quot;</td><td>4.479828</td></tr><tr><td>1963</td><td>&quot;AL&quot;</td><td>&quot;no&quot;</td><td>4.081388</td></tr><tr><td>2003</td><td>&quot;NL&quot;</td><td>&quot;no&quot;</td><td>4.640911</td></tr></tbody></table></div>"
      ],
      "text/plain": [
       "shape: (158, 4)\n",
       "┌────────┬──────┬──────────────┬──────────┐\n",
       "│ yearID ┆ lgID ┆ dh_in_league ┆ ERA      │\n",
       "│ ---    ┆ ---  ┆ ---          ┆ ---      │\n",
       "│ i64    ┆ str  ┆ str          ┆ f64      │\n",
       "╞════════╪══════╪══════════════╪══════════╡\n",
       "│ 1967   ┆ AL   ┆ no           ┆ 3.693277 │\n",
       "│ 1981   ┆ NL   ┆ no           ┆ 3.894603 │\n",
       "│ 2011   ┆ NL   ┆ no           ┆ 4.170883 │\n",
       "│ 2008   ┆ AL   ┆ yes          ┆ 4.721562 │\n",
       "│ 2003   ┆ AL   ┆ yes          ┆ 4.922077 │\n",
       "│ …      ┆ …    ┆ …            ┆ …        │\n",
       "│ 1947   ┆ NL   ┆ no           ┆ 4.652088 │\n",
       "│ 1952   ┆ NL   ┆ no           ┆ 4.209594 │\n",
       "│ 1951   ┆ NL   ┆ no           ┆ 4.479828 │\n",
       "│ 1963   ┆ AL   ┆ no           ┆ 4.081388 │\n",
       "│ 2003   ┆ NL   ┆ no           ┆ 4.640911 │\n",
       "└────────┴──────┴──────────────┴──────────┘"
      ]
     },
     "execution_count": 17,
     "metadata": {},
     "output_type": "execute_result"
    }
   ],
   "source": [
    "ERA = (pitching\n",
    " .filter(pl.col(\"yearID\") >= 1946)\n",
    " .group_by(pl.col(\"yearID\", \"lgID\"))\n",
    " .agg\n",
    "    (total_runs = pl.col(\"R\").sum(),\n",
    "     total_outs = pl.col(\"IPouts\").sum()\n",
    "    )\n",
    " .with_columns(ERA = (pl.col(\"total_runs\") / pl.col(\"total_outs\")) * 27)\n",
    " .with_columns(\n",
    "    dh_in_league=(\n",
    "        pl.when((pl.col(\"lgID\") == \"AL\") & (pl.col(\"yearID\") >= 1973)).then(pl.lit(\"yes\"))\n",
    "          .when(pl.col(\"yearID\") == 2020).then(pl.lit(\"yes\"))\n",
    "          .when((pl.col(\"lgID\") == \"NL\") & (pl.col(\"yearID\") >= 2022)).then(pl.lit(\"yes\"))\n",
    "          .otherwise(pl.lit(\"no\"))\n",
    "          .alias(\"dh_in_league\")\n",
    "    )\n",
    ")\n",
    "    .select([\"yearID\", \"lgID\", \"dh_in_league\", \"ERA\"])\n",
    ")\n",
    "ERA"
   ]
  },
  {
   "cell_type": "markdown",
   "id": "733714d3",
   "metadata": {},
   "source": []
  },
  {
   "cell_type": "code",
   "execution_count": 18,
   "id": "7d1c77d6",
   "metadata": {},
   "outputs": [],
   "source": [
    "ERA.write_csv(\"data/DH.csv\")"
   ]
  },
  {
   "cell_type": "code",
   "execution_count": 19,
   "id": "28d6eaba",
   "metadata": {},
   "outputs": [
    {
     "data": {
      "text/html": [
       "<div><style>\n",
       ".dataframe > thead > tr,\n",
       ".dataframe > tbody > tr {\n",
       "  text-align: right;\n",
       "  white-space: pre-wrap;\n",
       "}\n",
       "</style>\n",
       "<small>shape: (115_450, 24)</small><table border=\"1\" class=\"dataframe\"><thead><tr><th>playerID</th><th>yearID</th><th>stint</th><th>teamID</th><th>lgID</th><th>G</th><th>G_batting</th><th>AB</th><th>R</th><th>H</th><th>2B</th><th>3B</th><th>HR</th><th>RBI</th><th>SB</th><th>CS</th><th>BB</th><th>SO</th><th>IBB</th><th>HBP</th><th>SH</th><th>SF</th><th>GIDP</th><th>G_old</th></tr><tr><td>str</td><td>i64</td><td>i64</td><td>str</td><td>str</td><td>i64</td><td>i64</td><td>i64</td><td>i64</td><td>i64</td><td>i64</td><td>i64</td><td>i64</td><td>i64</td><td>i64</td><td>i64</td><td>i64</td><td>i64</td><td>i64</td><td>i64</td><td>i64</td><td>i64</td><td>i64</td><td>i64</td></tr></thead><tbody><tr><td>&quot;aardsda01&quot;</td><td>2004</td><td>1</td><td>&quot;SFN&quot;</td><td>&quot;NL&quot;</td><td>11</td><td>null</td><td>0</td><td>0</td><td>0</td><td>0</td><td>0</td><td>0</td><td>0</td><td>0</td><td>0</td><td>0</td><td>0</td><td>0</td><td>0</td><td>0</td><td>0</td><td>0</td><td>null</td></tr><tr><td>&quot;aardsda01&quot;</td><td>2006</td><td>1</td><td>&quot;CHN&quot;</td><td>&quot;NL&quot;</td><td>45</td><td>null</td><td>2</td><td>0</td><td>0</td><td>0</td><td>0</td><td>0</td><td>0</td><td>0</td><td>0</td><td>0</td><td>0</td><td>0</td><td>0</td><td>1</td><td>0</td><td>0</td><td>null</td></tr><tr><td>&quot;aardsda01&quot;</td><td>2007</td><td>1</td><td>&quot;CHA&quot;</td><td>&quot;AL&quot;</td><td>25</td><td>null</td><td>0</td><td>0</td><td>0</td><td>0</td><td>0</td><td>0</td><td>0</td><td>0</td><td>0</td><td>0</td><td>0</td><td>0</td><td>0</td><td>0</td><td>0</td><td>0</td><td>null</td></tr><tr><td>&quot;aardsda01&quot;</td><td>2008</td><td>1</td><td>&quot;BOS&quot;</td><td>&quot;AL&quot;</td><td>47</td><td>null</td><td>1</td><td>0</td><td>0</td><td>0</td><td>0</td><td>0</td><td>0</td><td>0</td><td>0</td><td>0</td><td>1</td><td>0</td><td>0</td><td>0</td><td>0</td><td>0</td><td>null</td></tr><tr><td>&quot;aardsda01&quot;</td><td>2009</td><td>1</td><td>&quot;SEA&quot;</td><td>&quot;AL&quot;</td><td>73</td><td>null</td><td>0</td><td>0</td><td>0</td><td>0</td><td>0</td><td>0</td><td>0</td><td>0</td><td>0</td><td>0</td><td>0</td><td>0</td><td>0</td><td>0</td><td>0</td><td>0</td><td>null</td></tr><tr><td>&hellip;</td><td>&hellip;</td><td>&hellip;</td><td>&hellip;</td><td>&hellip;</td><td>&hellip;</td><td>&hellip;</td><td>&hellip;</td><td>&hellip;</td><td>&hellip;</td><td>&hellip;</td><td>&hellip;</td><td>&hellip;</td><td>&hellip;</td><td>&hellip;</td><td>&hellip;</td><td>&hellip;</td><td>&hellip;</td><td>&hellip;</td><td>&hellip;</td><td>&hellip;</td><td>&hellip;</td><td>&hellip;</td><td>&hellip;</td></tr><tr><td>&quot;zwilldu01&quot;</td><td>1915</td><td>1</td><td>&quot;CHF&quot;</td><td>&quot;FL&quot;</td><td>150</td><td>null</td><td>548</td><td>65</td><td>157</td><td>32</td><td>7</td><td>13</td><td>94</td><td>24</td><td>null</td><td>67</td><td>65</td><td>null</td><td>2</td><td>18</td><td>null</td><td>null</td><td>null</td></tr><tr><td>&quot;zwilldu01&quot;</td><td>1916</td><td>1</td><td>&quot;CHN&quot;</td><td>&quot;NL&quot;</td><td>35</td><td>null</td><td>53</td><td>4</td><td>6</td><td>1</td><td>0</td><td>1</td><td>8</td><td>0</td><td>null</td><td>4</td><td>6</td><td>null</td><td>0</td><td>2</td><td>null</td><td>null</td><td>null</td></tr><tr><td>&quot;zychto01&quot;</td><td>2015</td><td>1</td><td>&quot;SEA&quot;</td><td>&quot;AL&quot;</td><td>13</td><td>null</td><td>0</td><td>0</td><td>0</td><td>0</td><td>0</td><td>0</td><td>0</td><td>0</td><td>0</td><td>0</td><td>0</td><td>0</td><td>0</td><td>0</td><td>0</td><td>0</td><td>null</td></tr><tr><td>&quot;zychto01&quot;</td><td>2016</td><td>1</td><td>&quot;SEA&quot;</td><td>&quot;AL&quot;</td><td>12</td><td>null</td><td>0</td><td>0</td><td>0</td><td>0</td><td>0</td><td>0</td><td>0</td><td>0</td><td>0</td><td>0</td><td>0</td><td>0</td><td>0</td><td>0</td><td>0</td><td>0</td><td>null</td></tr><tr><td>&quot;zychto01&quot;</td><td>2017</td><td>1</td><td>&quot;SEA&quot;</td><td>&quot;AL&quot;</td><td>45</td><td>null</td><td>0</td><td>0</td><td>0</td><td>0</td><td>0</td><td>0</td><td>0</td><td>0</td><td>0</td><td>0</td><td>0</td><td>0</td><td>0</td><td>0</td><td>0</td><td>0</td><td>null</td></tr></tbody></table></div>"
      ],
      "text/plain": [
       "shape: (115_450, 24)\n",
       "┌───────────┬────────┬───────┬────────┬───┬─────┬──────┬──────┬───────┐\n",
       "│ playerID  ┆ yearID ┆ stint ┆ teamID ┆ … ┆ SH  ┆ SF   ┆ GIDP ┆ G_old │\n",
       "│ ---       ┆ ---    ┆ ---   ┆ ---    ┆   ┆ --- ┆ ---  ┆ ---  ┆ ---   │\n",
       "│ str       ┆ i64    ┆ i64   ┆ str    ┆   ┆ i64 ┆ i64  ┆ i64  ┆ i64   │\n",
       "╞═══════════╪════════╪═══════╪════════╪═══╪═════╪══════╪══════╪═══════╡\n",
       "│ aardsda01 ┆ 2004   ┆ 1     ┆ SFN    ┆ … ┆ 0   ┆ 0    ┆ 0    ┆ null  │\n",
       "│ aardsda01 ┆ 2006   ┆ 1     ┆ CHN    ┆ … ┆ 1   ┆ 0    ┆ 0    ┆ null  │\n",
       "│ aardsda01 ┆ 2007   ┆ 1     ┆ CHA    ┆ … ┆ 0   ┆ 0    ┆ 0    ┆ null  │\n",
       "│ aardsda01 ┆ 2008   ┆ 1     ┆ BOS    ┆ … ┆ 0   ┆ 0    ┆ 0    ┆ null  │\n",
       "│ aardsda01 ┆ 2009   ┆ 1     ┆ SEA    ┆ … ┆ 0   ┆ 0    ┆ 0    ┆ null  │\n",
       "│ …         ┆ …      ┆ …     ┆ …      ┆ … ┆ …   ┆ …    ┆ …    ┆ …     │\n",
       "│ zwilldu01 ┆ 1915   ┆ 1     ┆ CHF    ┆ … ┆ 18  ┆ null ┆ null ┆ null  │\n",
       "│ zwilldu01 ┆ 1916   ┆ 1     ┆ CHN    ┆ … ┆ 2   ┆ null ┆ null ┆ null  │\n",
       "│ zychto01  ┆ 2015   ┆ 1     ┆ SEA    ┆ … ┆ 0   ┆ 0    ┆ 0    ┆ null  │\n",
       "│ zychto01  ┆ 2016   ┆ 1     ┆ SEA    ┆ … ┆ 0   ┆ 0    ┆ 0    ┆ null  │\n",
       "│ zychto01  ┆ 2017   ┆ 1     ┆ SEA    ┆ … ┆ 0   ┆ 0    ┆ 0    ┆ null  │\n",
       "└───────────┴────────┴───────┴────────┴───┴─────┴──────┴──────┴───────┘"
      ]
     },
     "execution_count": 19,
     "metadata": {},
     "output_type": "execute_result"
    }
   ],
   "source": [
    "batting = pl.read_csv(\"data/Batting.csv\")\n",
    "batting"
   ]
  },
  {
   "cell_type": "code",
   "execution_count": 21,
   "id": "4ddccd32",
   "metadata": {},
   "outputs": [
    {
     "data": {
      "text/html": [
       "<div><style>\n",
       ".dataframe > thead > tr,\n",
       ".dataframe > tbody > tr {\n",
       "  text-align: right;\n",
       "  white-space: pre-wrap;\n",
       "}\n",
       "</style>\n",
       "<small>shape: (82_170, 7)</small><table border=\"1\" class=\"dataframe\"><thead><tr><th>playerID</th><th>yearID</th><th>H</th><th>1B</th><th>2B</th><th>3B</th><th>HR</th></tr><tr><td>str</td><td>i64</td><td>i64</td><td>i64</td><td>i64</td><td>i64</td><td>i64</td></tr></thead><tbody><tr><td>&quot;aaronha01&quot;</td><td>1954</td><td>131</td><td>85</td><td>27</td><td>6</td><td>13</td></tr><tr><td>&quot;aaronha01&quot;</td><td>1955</td><td>189</td><td>116</td><td>37</td><td>9</td><td>27</td></tr><tr><td>&quot;aaronha01&quot;</td><td>1956</td><td>200</td><td>126</td><td>34</td><td>14</td><td>26</td></tr><tr><td>&quot;aaronha01&quot;</td><td>1957</td><td>198</td><td>121</td><td>27</td><td>6</td><td>44</td></tr><tr><td>&quot;aaronha01&quot;</td><td>1958</td><td>196</td><td>128</td><td>34</td><td>4</td><td>30</td></tr><tr><td>&hellip;</td><td>&hellip;</td><td>&hellip;</td><td>&hellip;</td><td>&hellip;</td><td>&hellip;</td><td>&hellip;</td></tr><tr><td>&quot;zuverge01&quot;</td><td>1958</td><td>2</td><td>1</td><td>0</td><td>1</td><td>0</td></tr><tr><td>&quot;zwilldu01&quot;</td><td>1910</td><td>16</td><td>11</td><td>5</td><td>0</td><td>0</td></tr><tr><td>&quot;zwilldu01&quot;</td><td>1914</td><td>185</td><td>123</td><td>38</td><td>8</td><td>16</td></tr><tr><td>&quot;zwilldu01&quot;</td><td>1915</td><td>157</td><td>105</td><td>32</td><td>7</td><td>13</td></tr><tr><td>&quot;zwilldu01&quot;</td><td>1916</td><td>6</td><td>4</td><td>1</td><td>0</td><td>1</td></tr></tbody></table></div>"
      ],
      "text/plain": [
       "shape: (82_170, 7)\n",
       "┌───────────┬────────┬─────┬─────┬─────┬─────┬─────┐\n",
       "│ playerID  ┆ yearID ┆ H   ┆ 1B  ┆ 2B  ┆ 3B  ┆ HR  │\n",
       "│ ---       ┆ ---    ┆ --- ┆ --- ┆ --- ┆ --- ┆ --- │\n",
       "│ str       ┆ i64    ┆ i64 ┆ i64 ┆ i64 ┆ i64 ┆ i64 │\n",
       "╞═══════════╪════════╪═════╪═════╪═════╪═════╪═════╡\n",
       "│ aaronha01 ┆ 1954   ┆ 131 ┆ 85  ┆ 27  ┆ 6   ┆ 13  │\n",
       "│ aaronha01 ┆ 1955   ┆ 189 ┆ 116 ┆ 37  ┆ 9   ┆ 27  │\n",
       "│ aaronha01 ┆ 1956   ┆ 200 ┆ 126 ┆ 34  ┆ 14  ┆ 26  │\n",
       "│ aaronha01 ┆ 1957   ┆ 198 ┆ 121 ┆ 27  ┆ 6   ┆ 44  │\n",
       "│ aaronha01 ┆ 1958   ┆ 196 ┆ 128 ┆ 34  ┆ 4   ┆ 30  │\n",
       "│ …         ┆ …      ┆ …   ┆ …   ┆ …   ┆ …   ┆ …   │\n",
       "│ zuverge01 ┆ 1958   ┆ 2   ┆ 1   ┆ 0   ┆ 1   ┆ 0   │\n",
       "│ zwilldu01 ┆ 1910   ┆ 16  ┆ 11  ┆ 5   ┆ 0   ┆ 0   │\n",
       "│ zwilldu01 ┆ 1914   ┆ 185 ┆ 123 ┆ 38  ┆ 8   ┆ 16  │\n",
       "│ zwilldu01 ┆ 1915   ┆ 157 ┆ 105 ┆ 32  ┆ 7   ┆ 13  │\n",
       "│ zwilldu01 ┆ 1916   ┆ 6   ┆ 4   ┆ 1   ┆ 0   ┆ 1   │\n",
       "└───────────┴────────┴─────┴─────┴─────┴─────┴─────┘"
      ]
     },
     "execution_count": 21,
     "metadata": {},
     "output_type": "execute_result"
    }
   ],
   "source": [
    "slugging = (\n",
    "    batting\n",
    "    .with_columns(\n",
    "        (\n",
    "            pl.col(\"H\") - (\n",
    "                pl.col(\"2B\") +\n",
    "                pl.col(\"3B\") +\n",
    "                pl.col(\"HR\")\n",
    "            )\n",
    "        ).alias(\"1B\")\n",
    "    )\n",
    "    # now filter the dataframe to remove rows where H is 0 or null\n",
    "    .filter(pl.col(\"H\") > 0)\n",
    ")\n",
    "\n",
    "slugging.select([\"playerID\", \"yearID\", \"H\", \"1B\", \"2B\", \"3B\", \"HR\"])\n",
    "\n"
   ]
  },
  {
   "cell_type": "code",
   "execution_count": null,
   "id": "e993631f",
   "metadata": {},
   "outputs": [],
   "source": []
  }
 ],
 "metadata": {
  "kernelspec": {
   "display_name": "Python 3",
   "language": "python",
   "name": "python3"
  },
  "language_info": {
   "codemirror_mode": {
    "name": "ipython",
    "version": 3
   },
   "file_extension": ".py",
   "mimetype": "text/x-python",
   "name": "python",
   "nbconvert_exporter": "python",
   "pygments_lexer": "ipython3",
   "version": "3.13.5"
  }
 },
 "nbformat": 4,
 "nbformat_minor": 5
}
