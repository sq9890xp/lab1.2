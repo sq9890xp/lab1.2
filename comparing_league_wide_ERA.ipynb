{
 "cells": [
  {
   "cell_type": "code",
   "execution_count": 1,
   "id": "d1baba4b",
   "metadata": {},
   "outputs": [],
   "source": [
    "import polars as pl"
   ]
  },
  {
   "cell_type": "code",
   "execution_count": 18,
   "id": "6addf53d",
   "metadata": {},
   "outputs": [
    {
     "data": {
      "text/html": [
       "<div><style>\n",
       ".dataframe > thead > tr,\n",
       ".dataframe > tbody > tr {\n",
       "  text-align: right;\n",
       "  white-space: pre-wrap;\n",
       "}\n",
       "</style>\n",
       "<small>shape: (5, 30)</small><table border=\"1\" class=\"dataframe\"><thead><tr><th>playerID</th><th>yearID</th><th>stint</th><th>teamID</th><th>lgID</th><th>W</th><th>L</th><th>G</th><th>GS</th><th>CG</th><th>SHO</th><th>SV</th><th>IPouts</th><th>H</th><th>ER</th><th>HR</th><th>BB</th><th>SO</th><th>BAOpp</th><th>ERA</th><th>IBB</th><th>WP</th><th>HBP</th><th>BK</th><th>BFP</th><th>GF</th><th>R</th><th>SH</th><th>SF</th><th>GIDP</th></tr><tr><td>str</td><td>i64</td><td>i64</td><td>str</td><td>str</td><td>i64</td><td>i64</td><td>i64</td><td>i64</td><td>i64</td><td>i64</td><td>i64</td><td>i64</td><td>i64</td><td>i64</td><td>i64</td><td>i64</td><td>i64</td><td>f64</td><td>f64</td><td>i64</td><td>i64</td><td>i64</td><td>i64</td><td>i64</td><td>i64</td><td>i64</td><td>i64</td><td>i64</td><td>i64</td></tr></thead><tbody><tr><td>&quot;aardsda01&quot;</td><td>2004</td><td>1</td><td>&quot;SFN&quot;</td><td>&quot;NL&quot;</td><td>1</td><td>0</td><td>11</td><td>0</td><td>0</td><td>0</td><td>0</td><td>32</td><td>20</td><td>8</td><td>1</td><td>10</td><td>5</td><td>0.417</td><td>6.75</td><td>0</td><td>0</td><td>2</td><td>0</td><td>61</td><td>5</td><td>8</td><td>0</td><td>1</td><td>1</td></tr><tr><td>&quot;aardsda01&quot;</td><td>2006</td><td>1</td><td>&quot;CHN&quot;</td><td>&quot;NL&quot;</td><td>3</td><td>0</td><td>45</td><td>0</td><td>0</td><td>0</td><td>0</td><td>159</td><td>41</td><td>24</td><td>9</td><td>28</td><td>49</td><td>0.214</td><td>4.08</td><td>0</td><td>1</td><td>1</td><td>0</td><td>225</td><td>9</td><td>25</td><td>1</td><td>3</td><td>2</td></tr><tr><td>&quot;aardsda01&quot;</td><td>2007</td><td>1</td><td>&quot;CHA&quot;</td><td>&quot;AL&quot;</td><td>2</td><td>1</td><td>25</td><td>0</td><td>0</td><td>0</td><td>0</td><td>97</td><td>39</td><td>23</td><td>4</td><td>17</td><td>36</td><td>0.3</td><td>6.4</td><td>3</td><td>2</td><td>1</td><td>0</td><td>151</td><td>7</td><td>24</td><td>2</td><td>1</td><td>1</td></tr><tr><td>&quot;aardsda01&quot;</td><td>2008</td><td>1</td><td>&quot;BOS&quot;</td><td>&quot;AL&quot;</td><td>4</td><td>2</td><td>47</td><td>0</td><td>0</td><td>0</td><td>0</td><td>146</td><td>49</td><td>30</td><td>4</td><td>35</td><td>49</td><td>0.268</td><td>5.55</td><td>2</td><td>3</td><td>5</td><td>0</td><td>228</td><td>7</td><td>32</td><td>3</td><td>2</td><td>4</td></tr><tr><td>&quot;aardsda01&quot;</td><td>2009</td><td>1</td><td>&quot;SEA&quot;</td><td>&quot;AL&quot;</td><td>3</td><td>6</td><td>73</td><td>0</td><td>0</td><td>0</td><td>38</td><td>214</td><td>49</td><td>20</td><td>4</td><td>34</td><td>80</td><td>0.19</td><td>2.52</td><td>3</td><td>2</td><td>0</td><td>0</td><td>296</td><td>53</td><td>23</td><td>2</td><td>1</td><td>2</td></tr></tbody></table></div>"
      ],
      "text/plain": [
       "shape: (5, 30)\n",
       "┌───────────┬────────┬───────┬────────┬───┬─────┬─────┬─────┬──────┐\n",
       "│ playerID  ┆ yearID ┆ stint ┆ teamID ┆ … ┆ R   ┆ SH  ┆ SF  ┆ GIDP │\n",
       "│ ---       ┆ ---    ┆ ---   ┆ ---    ┆   ┆ --- ┆ --- ┆ --- ┆ ---  │\n",
       "│ str       ┆ i64    ┆ i64   ┆ str    ┆   ┆ i64 ┆ i64 ┆ i64 ┆ i64  │\n",
       "╞═══════════╪════════╪═══════╪════════╪═══╪═════╪═════╪═════╪══════╡\n",
       "│ aardsda01 ┆ 2004   ┆ 1     ┆ SFN    ┆ … ┆ 8   ┆ 0   ┆ 1   ┆ 1    │\n",
       "│ aardsda01 ┆ 2006   ┆ 1     ┆ CHN    ┆ … ┆ 25  ┆ 1   ┆ 3   ┆ 2    │\n",
       "│ aardsda01 ┆ 2007   ┆ 1     ┆ CHA    ┆ … ┆ 24  ┆ 2   ┆ 1   ┆ 1    │\n",
       "│ aardsda01 ┆ 2008   ┆ 1     ┆ BOS    ┆ … ┆ 32  ┆ 3   ┆ 2   ┆ 4    │\n",
       "│ aardsda01 ┆ 2009   ┆ 1     ┆ SEA    ┆ … ┆ 23  ┆ 2   ┆ 1   ┆ 2    │\n",
       "└───────────┴────────┴───────┴────────┴───┴─────┴─────┴─────┴──────┘"
      ]
     },
     "execution_count": 18,
     "metadata": {},
     "output_type": "execute_result"
    }
   ],
   "source": [
    "pitching = pl.read_csv(\"data/pitching.csv\")\n",
    "pitching.head()"
   ]
  },
  {
   "cell_type": "code",
   "execution_count": 19,
   "id": "73432e4c",
   "metadata": {},
   "outputs": [
    {
     "data": {
      "text/html": [
       "<div><style>\n",
       ".dataframe > thead > tr,\n",
       ".dataframe > tbody > tr {\n",
       "  text-align: right;\n",
       "  white-space: pre-wrap;\n",
       "}\n",
       "</style>\n",
       "<small>shape: (5, 3)</small><table border=\"1\" class=\"dataframe\"><thead><tr><th>yearID</th><th>R</th><th>era</th></tr><tr><td>i64</td><td>i64</td><td>str</td></tr></thead><tbody><tr><td>1905</td><td>22</td><td>&quot;dead ball&quot;</td></tr><tr><td>1909</td><td>14</td><td>&quot;dead ball&quot;</td></tr><tr><td>1911</td><td>15</td><td>&quot;dead ball&quot;</td></tr><tr><td>1923</td><td>5</td><td>&quot;live ball&quot;</td></tr><tr><td>1920</td><td>40</td><td>&quot;live ball&quot;</td></tr></tbody></table></div>"
      ],
      "text/plain": [
       "shape: (5, 3)\n",
       "┌────────┬─────┬───────────┐\n",
       "│ yearID ┆ R   ┆ era       │\n",
       "│ ---    ┆ --- ┆ ---       │\n",
       "│ i64    ┆ i64 ┆ str       │\n",
       "╞════════╪═════╪═══════════╡\n",
       "│ 1905   ┆ 22  ┆ dead ball │\n",
       "│ 1909   ┆ 14  ┆ dead ball │\n",
       "│ 1911   ┆ 15  ┆ dead ball │\n",
       "│ 1923   ┆ 5   ┆ live ball │\n",
       "│ 1920   ┆ 40  ┆ live ball │\n",
       "└────────┴─────┴───────────┘"
      ]
     },
     "execution_count": 19,
     "metadata": {},
     "output_type": "execute_result"
    }
   ],
   "source": [
    "eras = (pitching\n",
    "        .select(['yearID', 'R'])\n",
    "        .filter((pl.col('yearID') >= 1900) & (pl.col('yearID') < 1939))\n",
    "        .with_columns(era = pl.when(pl.col('yearID') < 1920)\n",
    "                              .then(pl.lit('dead ball'))\n",
    "                              .otherwise(pl.lit('live ball'))\n",
    "                     )\n",
    "       )\n",
    "eras.head()"
   ]
  },
  {
   "cell_type": "code",
   "execution_count": 20,
   "id": "39bdfe51",
   "metadata": {},
   "outputs": [
    {
     "data": {
      "text/html": [
       "<div><style>\n",
       ".dataframe > thead > tr,\n",
       ".dataframe > tbody > tr {\n",
       "  text-align: right;\n",
       "  white-space: pre-wrap;\n",
       "}\n",
       "</style>\n",
       "<small>shape: (2, 2)</small><table border=\"1\" class=\"dataframe\"><thead><tr><th>era</th><th>mean_runs</th></tr><tr><td>str</td><td>f64</td></tr></thead><tbody><tr><td>&quot;live ball&quot;</td><td>55.76718</td></tr><tr><td>&quot;dead ball&quot;</td><td>49.707696</td></tr></tbody></table></div>"
      ],
      "text/plain": [
       "shape: (2, 2)\n",
       "┌───────────┬───────────┐\n",
       "│ era       ┆ mean_runs │\n",
       "│ ---       ┆ ---       │\n",
       "│ str       ┆ f64       │\n",
       "╞═══════════╪═══════════╡\n",
       "│ live ball ┆ 55.76718  │\n",
       "│ dead ball ┆ 49.707696 │\n",
       "└───────────┴───────────┘"
      ]
     },
     "execution_count": 20,
     "metadata": {},
     "output_type": "execute_result"
    }
   ],
   "source": [
    "mean_runs = (eras\n",
    "             .group_by(pl.col('era'))\n",
    "             .agg(mean_runs = pl.col('R').mean())\n",
    "            )\n",
    "mean_runs"
   ]
  },
  {
   "cell_type": "code",
   "execution_count": 38,
   "id": "0cda60b1",
   "metadata": {},
   "outputs": [
    {
     "data": {
      "text/html": [
       "<div><style>\n",
       ".dataframe > thead > tr,\n",
       ".dataframe > tbody > tr {\n",
       "  text-align: right;\n",
       "  white-space: pre-wrap;\n",
       "}\n",
       "</style>\n",
       "<small>shape: (5, 31)</small><table border=\"1\" class=\"dataframe\"><thead><tr><th>playerID</th><th>yearID</th><th>stint</th><th>teamID</th><th>lgID</th><th>W</th><th>L</th><th>G</th><th>GS</th><th>CG</th><th>SHO</th><th>SV</th><th>IPouts</th><th>H</th><th>ER</th><th>HR</th><th>BB</th><th>SO</th><th>BAOpp</th><th>ERA</th><th>IBB</th><th>WP</th><th>HBP</th><th>BK</th><th>BFP</th><th>GF</th><th>R</th><th>SH</th><th>SF</th><th>GIDP</th><th>dh_in_league</th></tr><tr><td>str</td><td>i64</td><td>i64</td><td>str</td><td>str</td><td>i64</td><td>i64</td><td>i64</td><td>i64</td><td>i64</td><td>i64</td><td>i64</td><td>i64</td><td>i64</td><td>i64</td><td>i64</td><td>i64</td><td>i64</td><td>f64</td><td>f64</td><td>i64</td><td>i64</td><td>i64</td><td>i64</td><td>i64</td><td>i64</td><td>i64</td><td>i64</td><td>i64</td><td>i64</td><td>str</td></tr></thead><tbody><tr><td>&quot;aardsda01&quot;</td><td>2004</td><td>1</td><td>&quot;SFN&quot;</td><td>&quot;NL&quot;</td><td>1</td><td>0</td><td>11</td><td>0</td><td>0</td><td>0</td><td>0</td><td>32</td><td>20</td><td>8</td><td>1</td><td>10</td><td>5</td><td>0.417</td><td>6.75</td><td>0</td><td>0</td><td>2</td><td>0</td><td>61</td><td>5</td><td>8</td><td>0</td><td>1</td><td>1</td><td>&quot;no&quot;</td></tr><tr><td>&quot;aardsda01&quot;</td><td>2006</td><td>1</td><td>&quot;CHN&quot;</td><td>&quot;NL&quot;</td><td>3</td><td>0</td><td>45</td><td>0</td><td>0</td><td>0</td><td>0</td><td>159</td><td>41</td><td>24</td><td>9</td><td>28</td><td>49</td><td>0.214</td><td>4.08</td><td>0</td><td>1</td><td>1</td><td>0</td><td>225</td><td>9</td><td>25</td><td>1</td><td>3</td><td>2</td><td>&quot;no&quot;</td></tr><tr><td>&quot;aardsda01&quot;</td><td>2007</td><td>1</td><td>&quot;CHA&quot;</td><td>&quot;AL&quot;</td><td>2</td><td>1</td><td>25</td><td>0</td><td>0</td><td>0</td><td>0</td><td>97</td><td>39</td><td>23</td><td>4</td><td>17</td><td>36</td><td>0.3</td><td>6.4</td><td>3</td><td>2</td><td>1</td><td>0</td><td>151</td><td>7</td><td>24</td><td>2</td><td>1</td><td>1</td><td>&quot;yes&quot;</td></tr><tr><td>&quot;aardsda01&quot;</td><td>2008</td><td>1</td><td>&quot;BOS&quot;</td><td>&quot;AL&quot;</td><td>4</td><td>2</td><td>47</td><td>0</td><td>0</td><td>0</td><td>0</td><td>146</td><td>49</td><td>30</td><td>4</td><td>35</td><td>49</td><td>0.268</td><td>5.55</td><td>2</td><td>3</td><td>5</td><td>0</td><td>228</td><td>7</td><td>32</td><td>3</td><td>2</td><td>4</td><td>&quot;yes&quot;</td></tr><tr><td>&quot;aardsda01&quot;</td><td>2009</td><td>1</td><td>&quot;SEA&quot;</td><td>&quot;AL&quot;</td><td>3</td><td>6</td><td>73</td><td>0</td><td>0</td><td>0</td><td>38</td><td>214</td><td>49</td><td>20</td><td>4</td><td>34</td><td>80</td><td>0.19</td><td>2.52</td><td>3</td><td>2</td><td>0</td><td>0</td><td>296</td><td>53</td><td>23</td><td>2</td><td>1</td><td>2</td><td>&quot;yes&quot;</td></tr></tbody></table></div>"
      ],
      "text/plain": [
       "shape: (5, 31)\n",
       "┌───────────┬────────┬───────┬────────┬───┬─────┬─────┬──────┬──────────────┐\n",
       "│ playerID  ┆ yearID ┆ stint ┆ teamID ┆ … ┆ SH  ┆ SF  ┆ GIDP ┆ dh_in_league │\n",
       "│ ---       ┆ ---    ┆ ---   ┆ ---    ┆   ┆ --- ┆ --- ┆ ---  ┆ ---          │\n",
       "│ str       ┆ i64    ┆ i64   ┆ str    ┆   ┆ i64 ┆ i64 ┆ i64  ┆ str          │\n",
       "╞═══════════╪════════╪═══════╪════════╪═══╪═════╪═════╪══════╪══════════════╡\n",
       "│ aardsda01 ┆ 2004   ┆ 1     ┆ SFN    ┆ … ┆ 0   ┆ 1   ┆ 1    ┆ no           │\n",
       "│ aardsda01 ┆ 2006   ┆ 1     ┆ CHN    ┆ … ┆ 1   ┆ 3   ┆ 2    ┆ no           │\n",
       "│ aardsda01 ┆ 2007   ┆ 1     ┆ CHA    ┆ … ┆ 2   ┆ 1   ┆ 1    ┆ yes          │\n",
       "│ aardsda01 ┆ 2008   ┆ 1     ┆ BOS    ┆ … ┆ 3   ┆ 2   ┆ 4    ┆ yes          │\n",
       "│ aardsda01 ┆ 2009   ┆ 1     ┆ SEA    ┆ … ┆ 2   ┆ 1   ┆ 2    ┆ yes          │\n",
       "└───────────┴────────┴───────┴────────┴───┴─────┴─────┴──────┴──────────────┘"
      ]
     },
     "execution_count": 38,
     "metadata": {},
     "output_type": "execute_result"
    }
   ],
   "source": [
    "pitching.with_columns(\n",
    "    dh_in_league=(\n",
    "        pl.when((pl.col(\"lgID\") == \"AL\") & (pl.col(\"yearID\") >= 1973)).then(pl.lit(\"yes\"))\n",
    "          .when(pl.col(\"yearID\") == 2020).then(pl.lit(\"yes\"))\n",
    "          .when((pl.col(\"lgID\") == \"NL\") & (pl.col(\"yearID\") >= 2022)).then(pl.lit(\"yes\"))\n",
    "          .otherwise(pl.lit(\"no\"))\n",
    "          .alias(\"dh_in_league\")\n",
    "    )\n",
    ").head()\n"
   ]
  },
  {
   "cell_type": "code",
   "execution_count": 45,
   "id": "06c66da9",
   "metadata": {},
   "outputs": [
    {
     "data": {
      "text/html": [
       "<div><style>\n",
       ".dataframe > thead > tr,\n",
       ".dataframe > tbody > tr {\n",
       "  text-align: right;\n",
       "  white-space: pre-wrap;\n",
       "}\n",
       "</style>\n",
       "<small>shape: (158, 4)</small><table border=\"1\" class=\"dataframe\"><thead><tr><th>yearID</th><th>lgID</th><th>dh_in_league</th><th>ERA</th></tr><tr><td>i64</td><td>str</td><td>str</td><td>f64</td></tr></thead><tbody><tr><td>2018</td><td>&quot;AL&quot;</td><td>&quot;yes&quot;</td><td>4.601659</td></tr><tr><td>1984</td><td>&quot;AL&quot;</td><td>&quot;yes&quot;</td><td>4.449852</td></tr><tr><td>1965</td><td>&quot;AL&quot;</td><td>&quot;no&quot;</td><td>3.954239</td></tr><tr><td>1997</td><td>&quot;AL&quot;</td><td>&quot;yes&quot;</td><td>4.980262</td></tr><tr><td>1953</td><td>&quot;AL&quot;</td><td>&quot;no&quot;</td><td>4.485217</td></tr><tr><td>&hellip;</td><td>&hellip;</td><td>&hellip;</td><td>&hellip;</td></tr><tr><td>1989</td><td>&quot;AL&quot;</td><td>&quot;yes&quot;</td><td>4.340122</td></tr><tr><td>1966</td><td>&quot;NL&quot;</td><td>&quot;no&quot;</td><td>4.096944</td></tr><tr><td>2009</td><td>&quot;NL&quot;</td><td>&quot;no&quot;</td><td>4.529872</td></tr><tr><td>1983</td><td>&quot;NL&quot;</td><td>&quot;no&quot;</td><td>4.119867</td></tr><tr><td>1998</td><td>&quot;NL&quot;</td><td>&quot;no&quot;</td><td>4.625086</td></tr></tbody></table></div>"
      ],
      "text/plain": [
       "shape: (158, 4)\n",
       "┌────────┬──────┬──────────────┬──────────┐\n",
       "│ yearID ┆ lgID ┆ dh_in_league ┆ ERA      │\n",
       "│ ---    ┆ ---  ┆ ---          ┆ ---      │\n",
       "│ i64    ┆ str  ┆ str          ┆ f64      │\n",
       "╞════════╪══════╪══════════════╪══════════╡\n",
       "│ 2018   ┆ AL   ┆ yes          ┆ 4.601659 │\n",
       "│ 1984   ┆ AL   ┆ yes          ┆ 4.449852 │\n",
       "│ 1965   ┆ AL   ┆ no           ┆ 3.954239 │\n",
       "│ 1997   ┆ AL   ┆ yes          ┆ 4.980262 │\n",
       "│ 1953   ┆ AL   ┆ no           ┆ 4.485217 │\n",
       "│ …      ┆ …    ┆ …            ┆ …        │\n",
       "│ 1989   ┆ AL   ┆ yes          ┆ 4.340122 │\n",
       "│ 1966   ┆ NL   ┆ no           ┆ 4.096944 │\n",
       "│ 2009   ┆ NL   ┆ no           ┆ 4.529872 │\n",
       "│ 1983   ┆ NL   ┆ no           ┆ 4.119867 │\n",
       "│ 1998   ┆ NL   ┆ no           ┆ 4.625086 │\n",
       "└────────┴──────┴──────────────┴──────────┘"
      ]
     },
     "execution_count": 45,
     "metadata": {},
     "output_type": "execute_result"
    }
   ],
   "source": [
    "ERA = (pitching\n",
    " .filter(pl.col(\"yearID\") >= 1946)\n",
    " .group_by(pl.col(\"yearID\", \"lgID\"))\n",
    " .agg\n",
    "    (total_runs = pl.col(\"R\").sum(),\n",
    "     total_outs = pl.col(\"IPouts\").sum()\n",
    "    )\n",
    " .with_columns(ERA = (pl.col(\"total_runs\") / pl.col(\"total_outs\")) * 27)\n",
    " .with_columns(\n",
    "    dh_in_league=(\n",
    "        pl.when((pl.col(\"lgID\") == \"AL\") & (pl.col(\"yearID\") >= 1973)).then(pl.lit(\"yes\"))\n",
    "          .when(pl.col(\"yearID\") == 2020).then(pl.lit(\"yes\"))\n",
    "          .when((pl.col(\"lgID\") == \"NL\") & (pl.col(\"yearID\") >= 2022)).then(pl.lit(\"yes\"))\n",
    "          .otherwise(pl.lit(\"no\"))\n",
    "          .alias(\"dh_in_league\")\n",
    "    )\n",
    ")\n",
    "    .select([\"yearID\", \"lgID\", \"dh_in_league\", \"ERA\"])\n",
    ")\n",
    "ERA"
   ]
  },
  {
   "cell_type": "code",
   "execution_count": null,
   "id": "8ae17a01",
   "metadata": {},
   "outputs": [],
   "source": [
    "ERA.write_csv(\"DH.csv\")"
   ]
  },
  {
   "cell_type": "markdown",
   "id": "733714d3",
   "metadata": {},
   "source": []
  },
  {
   "cell_type": "code",
   "execution_count": null,
   "id": "28d6eaba",
   "metadata": {},
   "outputs": [],
   "source": []
  }
 ],
 "metadata": {
  "kernelspec": {
   "display_name": "Python 3",
   "language": "python",
   "name": "python3"
  },
  "language_info": {
   "codemirror_mode": {
    "name": "ipython",
    "version": 3
   },
   "file_extension": ".py",
   "mimetype": "text/x-python",
   "name": "python",
   "nbconvert_exporter": "python",
   "pygments_lexer": "ipython3",
   "version": "3.13.5"
  }
 },
 "nbformat": 4,
 "nbformat_minor": 5
}
